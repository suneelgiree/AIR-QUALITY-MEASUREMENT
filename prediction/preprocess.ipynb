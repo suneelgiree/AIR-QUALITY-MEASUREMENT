{
 "cells": [
  {
   "cell_type": "code",
   "execution_count": 1,
   "id": "55987112",
   "metadata": {},
   "outputs": [],
   "source": [
    "import pandas as pd"
   ]
  },
  {
   "cell_type": "code",
   "execution_count": 2,
   "id": "127b4f11",
   "metadata": {},
   "outputs": [],
   "source": [
    "# Load the datasets\n",
    "aqi_df = pd.read_csv('data_for_train/AQI.csv')\n",
    "forecast_df = pd.read_csv('data_for_train/weather.csv')"
   ]
  },
  {
   "cell_type": "code",
   "execution_count": 3,
   "id": "4dd6fe73",
   "metadata": {},
   "outputs": [],
   "source": [
    "# Convert date/time columns to datetime objects\n",
    "aqi_df['date'] = pd.to_datetime(aqi_df['time'])\n",
    "forecast_df['time'] = pd.to_datetime(forecast_df['time'])"
   ]
  },
  {
   "cell_type": "code",
   "execution_count": 4,
   "id": "4b74b2fd",
   "metadata": {},
   "outputs": [],
   "source": [
    "# Sort both DataFrames by date to ensure chronological alignment\n",
    "aqi_df.sort_values('time', inplace=True)\n",
    "forecast_df.sort_values('time', inplace=True)"
   ]
  },
  {
   "cell_type": "code",
   "execution_count": 5,
   "id": "e1b9ed68",
   "metadata": {},
   "outputs": [],
   "source": [
    "# Add previous day's AQI (as a feature for prediction)\n",
    "aqi_df['prev_us_aqi'] = aqi_df['us_aqi (USAQI)'].shift(1)"
   ]
  },
  {
   "cell_type": "code",
   "execution_count": 6,
   "id": "a1650cf2",
   "metadata": {},
   "outputs": [],
   "source": [
    "# Merge forecast data with AQI data: forecast for day X is used to predict AQI for day X\n",
    "merged_df = pd.merge(\n",
    "    forecast_df,\n",
    "    aqi_df[['date', 'us_aqi (USAQI)', 'prev_us_aqi']],\n",
    "    left_on='time',\n",
    "    right_on='date',\n",
    "    how='inner'\n",
    ")"
   ]
  },
  {
   "cell_type": "code",
   "execution_count": 7,
   "id": "3890e0bb",
   "metadata": {},
   "outputs": [],
   "source": [
    "# Drop columns that contain all NaN values\n",
    "merged_df.dropna(axis=1, how='all', inplace=True)"
   ]
  },
  {
   "cell_type": "code",
   "execution_count": 8,
   "id": "c4207584",
   "metadata": {},
   "outputs": [],
   "source": [
    "\n",
    "# Drop any remaining rows with missing data\n",
    "merged_df.dropna(inplace=True)"
   ]
  },
  {
   "cell_type": "code",
   "execution_count": 9,
   "id": "3c114bc8",
   "metadata": {},
   "outputs": [],
   "source": [
    "\n",
    "# Optionally drop the original date/time columns\n",
    "merged_df.drop(columns=['time', 'time'], inplace=True)"
   ]
  },
  {
   "cell_type": "code",
   "execution_count": 10,
   "id": "a345efc3",
   "metadata": {},
   "outputs": [],
   "source": [
    "# Save the preprocessed dataset for model training\n",
    "merged_df.to_csv('merged_forecast_aqi.csv', index=False)"
   ]
  },
  {
   "cell_type": "code",
   "execution_count": 11,
   "id": "ac1caf1d",
   "metadata": {},
   "outputs": [
    {
     "name": "stdout",
     "output_type": "stream",
     "text": [
      "✅ Data preprocessing complete. Saved as 'merged_forecast_aqi.csv'.\n"
     ]
    }
   ],
   "source": [
    "print(\"✅ Data preprocessing complete. Saved as 'merged_forecast_aqi.csv'.\")"
   ]
  },
  {
   "cell_type": "code",
   "execution_count": null,
   "id": "6dab2daf",
   "metadata": {},
   "outputs": [],
   "source": []
  }
 ],
 "metadata": {
  "kernelspec": {
   "display_name": ".venv",
   "language": "python",
   "name": "python3"
  },
  "language_info": {
   "codemirror_mode": {
    "name": "ipython",
    "version": 3
   },
   "file_extension": ".py",
   "mimetype": "text/x-python",
   "name": "python",
   "nbconvert_exporter": "python",
   "pygments_lexer": "ipython3",
   "version": "3.12.3"
  }
 },
 "nbformat": 4,
 "nbformat_minor": 5
}
