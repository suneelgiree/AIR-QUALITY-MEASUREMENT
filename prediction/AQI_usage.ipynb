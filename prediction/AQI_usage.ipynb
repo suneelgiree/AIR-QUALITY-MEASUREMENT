{
 "cells": [
  {
   "cell_type": "code",
   "execution_count": null,
   "id": "23712a0a",
   "metadata": {},
   "outputs": [],
   "source": []
  },
  {
   "cell_type": "code",
   "execution_count": 17,
   "id": "1965f165",
   "metadata": {},
   "outputs": [],
   "source": [
    "import pandas as pd\n",
    "import joblib\n",
    "import numpy as np\n"
   ]
  },
  {
   "cell_type": "code",
   "execution_count": 18,
   "id": "13be2fec",
   "metadata": {},
   "outputs": [],
   "source": [
    "model = joblib.load('aqi_predictor_model_ridge.pkl')"
   ]
  },
  {
   "cell_type": "code",
   "execution_count": 20,
   "id": "3ffbea45",
   "metadata": {},
   "outputs": [],
   "source": [
    "training_data = pd.read_csv('merged_forecast_aqi.csv')"
   ]
  },
  {
   "cell_type": "code",
   "execution_count": 21,
   "id": "23819223",
   "metadata": {},
   "outputs": [],
   "source": [
    "training_data.drop(columns=['time', 'date'], errors='ignore', inplace=True)"
   ]
  },
  {
   "cell_type": "code",
   "execution_count": 22,
   "id": "63fa8342",
   "metadata": {},
   "outputs": [],
   "source": [
    "X_train = training_data.drop(columns=['us_aqi (USAQI)'])\n",
    "feature_columns = X_train.columns\n",
    "feature_means = X_train.mean()"
   ]
  },
  {
   "cell_type": "code",
   "execution_count": 23,
   "id": "262060f9",
   "metadata": {},
   "outputs": [
    {
     "name": "stdout",
     "output_type": "stream",
     "text": [
      "Expected features by model: ['temperature_2m (°C)', 'relative_humidity_2m (%)', 'dew_point_2m (°C)', 'apparent_temperature (°C)', 'precipitation (mm)', 'rain (mm)', 'snowfall (cm)', 'snow_depth (m)', 'weather_code (wmo code)', 'pressure_msl (hPa)', 'surface_pressure (hPa)', 'cloud_cover (%)', 'cloud_cover_low (%)', 'cloud_cover_mid (%)', 'cloud_cover_high (%)', 'et0_fao_evapotranspiration (mm)', 'vapour_pressure_deficit (kPa)', 'wind_speed_10m (km/h)', 'wind_speed_100m (km/h)', 'wind_direction_10m (°)', 'wind_direction_100m (°)', 'wind_gusts_10m (km/h)', 'soil_temperature_0_to_7cm (°C)', 'soil_temperature_7_to_28cm (°C)', 'soil_temperature_28_to_100cm (°C)', 'soil_temperature_100_to_255cm (°C)', 'soil_moisture_0_to_7cm (m³/m³)', 'soil_moisture_7_to_28cm (m³/m³)', 'soil_moisture_28_to_100cm (m³/m³)', 'soil_moisture_100_to_255cm (m³/m³)', 'prev_us_aqi']\n",
      "Available features from training data: ['temperature_2m (°C)', 'relative_humidity_2m (%)', 'dew_point_2m (°C)', 'apparent_temperature (°C)', 'precipitation (mm)', 'rain (mm)', 'snowfall (cm)', 'snow_depth (m)', 'weather_code (wmo code)', 'pressure_msl (hPa)', 'surface_pressure (hPa)', 'cloud_cover (%)', 'cloud_cover_low (%)', 'cloud_cover_mid (%)', 'cloud_cover_high (%)', 'et0_fao_evapotranspiration (mm)', 'vapour_pressure_deficit (kPa)', 'wind_speed_10m (km/h)', 'wind_speed_100m (km/h)', 'wind_direction_10m (°)', 'wind_direction_100m (°)', 'wind_gusts_10m (km/h)', 'soil_temperature_0_to_7cm (°C)', 'soil_temperature_7_to_28cm (°C)', 'soil_temperature_28_to_100cm (°C)', 'soil_temperature_100_to_255cm (°C)', 'soil_moisture_0_to_7cm (m³/m³)', 'soil_moisture_7_to_28cm (m³/m³)', 'soil_moisture_28_to_100cm (m³/m³)', 'soil_moisture_100_to_255cm (m³/m³)', 'prev_us_aqi']\n"
     ]
    }
   ],
   "source": [
    "print(\"Expected features by model:\", list(model.feature_names_in_))\n",
    "print(\"Available features from training data:\", list(feature_columns))"
   ]
  },
  {
   "cell_type": "code",
   "execution_count": 24,
   "id": "fdb4cdf4",
   "metadata": {},
   "outputs": [],
   "source": [
    "new_forecast = {\n",
    "    'temperature_2m_max (°C)': 30.0,\n",
    "    'temperature_2m_min (°C)': 20.0,\n",
    "    'wind_speed_10m_mean (km/h)': 12.0,\n",
    "    'prev_us_aqi': 105\n",
    "    # Many features are missing and will be filled with means\n",
    "}"
   ]
  },
  {
   "cell_type": "code",
   "execution_count": 25,
   "id": "912cf74d",
   "metadata": {},
   "outputs": [],
   "source": [
    "input_df = pd.DataFrame([new_forecast])"
   ]
  },
  {
   "cell_type": "code",
   "execution_count": 26,
   "id": "08219d75",
   "metadata": {},
   "outputs": [],
   "source": [
    "for col in feature_columns:\n",
    "    if col not in input_df.columns:\n",
    "        input_df[col] = np.nan  # Insert NaN for missing features\n"
   ]
  },
  {
   "cell_type": "code",
   "execution_count": 27,
   "id": "3fd4a505",
   "metadata": {},
   "outputs": [],
   "source": [
    "input_df = input_df[feature_columns]"
   ]
  },
  {
   "cell_type": "code",
   "execution_count": 28,
   "id": "30e43cec",
   "metadata": {},
   "outputs": [],
   "source": [
    "input_df = input_df.fillna(feature_means)"
   ]
  },
  {
   "cell_type": "code",
   "execution_count": 29,
   "id": "043970ab",
   "metadata": {},
   "outputs": [
    {
     "name": "stdout",
     "output_type": "stream",
     "text": [
      "\n",
      "Input shape: (1, 31)\n",
      "Model expects 31 features\n",
      "Input has 31 features\n"
     ]
    }
   ],
   "source": [
    " # Step 8: Verify the input shape and columns\n",
    "print(f\"\\nInput shape: {input_df.shape}\")\n",
    "print(f\"Model expects {len(model.feature_names_in_)} features\")\n",
    "print(f\"Input has {len(input_df.columns)} features\")"
   ]
  },
  {
   "cell_type": "code",
   "execution_count": 30,
   "id": "5e80516b",
   "metadata": {},
   "outputs": [],
   "source": [
    "# Check if all required features are present\n",
    "missing_features = set(model.feature_names_in_) - set(input_df.columns)\n",
    "extra_features = set(input_df.columns) - set(model.feature_names_in_)\n",
    "\n",
    "if missing_features:\n",
    "    print(f\"Missing features: {missing_features}\")\n",
    "if extra_features:\n",
    "    print(f\"Extra features that will be removed: {extra_features}\")\n",
    "    # Remove extra features\n",
    "    input_df = input_df[model.feature_names_in_]\n"
   ]
  },
  {
   "cell_type": "code",
   "execution_count": 31,
   "id": "ee1e8afd",
   "metadata": {},
   "outputs": [
    {
     "name": "stdout",
     "output_type": "stream",
     "text": [
      "\n",
      "🌫️ Predicted AQI: 104.83\n",
      "Air Quality: Unhealthy for Sensitive Groups (Orange)\n"
     ]
    }
   ],
   "source": [
    "try:\n",
    "    predicted_aqi = model.predict(input_df)[0]\n",
    "    print(f\"\\n🌫️ Predicted AQI: {predicted_aqi:.2f}\")\n",
    "    \n",
    "    # Interpret the AQI value\n",
    "    if predicted_aqi <= 50:\n",
    "        quality = \"Good (Green)\"\n",
    "    elif predicted_aqi <= 100:\n",
    "        quality = \"Moderate (Yellow)\"\n",
    "    elif predicted_aqi <= 150:\n",
    "        quality = \"Unhealthy for Sensitive Groups (Orange)\"\n",
    "    elif predicted_aqi <= 200:\n",
    "        quality = \"Unhealthy (Red)\"\n",
    "    elif predicted_aqi <= 300:\n",
    "        quality = \"Very Unhealthy (Purple)\"\n",
    "    else:\n",
    "        quality = \"Hazardous (Maroon)\"\n",
    "    \n",
    "    print(f\"Air Quality: {quality}\")\n",
    "    \n",
    "except Exception as e:\n",
    "    print(f\"Error making prediction: {e}\")\n"
   ]
  },
  {
   "cell_type": "code",
   "execution_count": null,
   "id": "ecff8dc4",
   "metadata": {},
   "outputs": [],
   "source": []
  }
 ],
 "metadata": {
  "kernelspec": {
   "display_name": ".venv",
   "language": "python",
   "name": "python3"
  },
  "language_info": {
   "codemirror_mode": {
    "name": "ipython",
    "version": 3
   },
   "file_extension": ".py",
   "mimetype": "text/x-python",
   "name": "python",
   "nbconvert_exporter": "python",
   "pygments_lexer": "ipython3",
   "version": "3.12.3"
  }
 },
 "nbformat": 4,
 "nbformat_minor": 5
}
